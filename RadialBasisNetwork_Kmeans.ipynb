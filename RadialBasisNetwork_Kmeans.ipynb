{
 "cells": [
  {
   "cell_type": "code",
   "execution_count": 386,
   "metadata": {},
   "outputs": [],
   "source": [
    "import numpy as np\n",
    "import matplotlib.pyplot as plt\n",
    "import torch\n",
    "import torch.nn as nn\n",
    "import torch.optim as optim\n",
    "from torch.autograd import Variable"
   ]
  },
  {
   "cell_type": "markdown",
   "metadata": {},
   "source": [
    "# RBF NET Using predefined Centres and Sigmas using Kmeans"
   ]
  },
  {
   "cell_type": "code",
   "execution_count": 947,
   "metadata": {},
   "outputs": [],
   "source": [
    "def rbf(x, c, s):\n",
    "    return np.exp(-1 / (2 * s**2) * (x-c)**2)"
   ]
  },
  {
   "cell_type": "code",
   "execution_count": 948,
   "metadata": {},
   "outputs": [],
   "source": [
    "def kmeans(X, k):\n",
    "    \"\"\"Performs k-means clustering for 1D input\n",
    "    \n",
    "    Arguments:\n",
    "        X {ndarray} -- A Mx1 array of inputs\n",
    "        k {int} -- Number of clusters\n",
    "    \n",
    "    Returns:\n",
    "        ndarray -- A kx1 array of final cluster centers\n",
    "    \"\"\"\n",
    " \n",
    "    # randomly select initial clusters from input data\n",
    "    clusters = np.random.choice(np.squeeze(X), size=k)\n",
    "    prevClusters = clusters.copy()\n",
    "    stds = np.zeros(k)\n",
    "    converged = False\n",
    " \n",
    "    while not converged:\n",
    "        \"\"\"\n",
    "        compute distances for each cluster center to each point \n",
    "        where (distances[i, j] represents the distance between the ith point and jth cluster)\n",
    "        \"\"\"\n",
    "        distances = np.squeeze(np.abs(X[:, np.newaxis] - clusters[np.newaxis, :]))\n",
    " \n",
    "        # find the cluster that's closest to each point\n",
    "        closestCluster = np.argmin(distances, axis=1)\n",
    " \n",
    "        # update clusters by taking the mean of all of the points assigned to that cluster\n",
    "        for i in range(k):\n",
    "            pointsForCluster = X[closestCluster == i]\n",
    "            if len(pointsForCluster) > 0:\n",
    "                clusters[i] = np.mean(pointsForCluster, axis=0)\n",
    " \n",
    "        # converge if clusters haven't moved\n",
    "        converged = np.linalg.norm(clusters - prevClusters) < 1e-6\n",
    "        prevClusters = clusters.copy()\n",
    " \n",
    "    distances = np.squeeze(np.abs(X[:, np.newaxis] - clusters[np.newaxis, :]))\n",
    "    closestCluster = np.argmin(distances, axis=1)\n",
    " \n",
    "    clustersWithNoPoints = []\n",
    "    for i in range(k):\n",
    "        pointsForCluster = X[closestCluster == i]\n",
    "        if len(pointsForCluster) < 2:\n",
    "            # keep track of clusters with no points or 1 point\n",
    "            clustersWithNoPoints.append(i)\n",
    "            continue\n",
    "        else:\n",
    "            stds[i] = np.std(X[closestCluster == i])\n",
    " \n",
    "    # if there are clusters with 0 or 1 points, take the mean std of the other clusters\n",
    "    if len(clustersWithNoPoints) > 0:\n",
    "        pointsToAverage = []\n",
    "        for i in range(k):\n",
    "            if i not in clustersWithNoPoints:\n",
    "                pointsToAverage.append(X[closestCluster == i])\n",
    "        pointsToAverage = np.concatenate(pointsToAverage).ravel()\n",
    "        stds[clustersWithNoPoints] = np.mean(np.std(pointsToAverage))\n",
    " \n",
    "    return clusters, stds"
   ]
  },
  {
   "cell_type": "code",
   "execution_count": 949,
   "metadata": {},
   "outputs": [],
   "source": [
    "class RBFNet(object):\n",
    "    \"\"\"Implementation of a Radial Basis Function Network\"\"\"\n",
    "    def __init__(self, k=10, lr=0.01, epochs=100, rbf=rbf, inferStds=True):\n",
    "        self.k = k\n",
    "        self.lr = lr\n",
    "        self.epochs = epochs\n",
    "        self.rbf = rbf\n",
    "        self.inferStds = inferStds\n",
    " \n",
    "        self.w = np.random.randn(k)\n",
    "        self.b = np.random.randn(1)\n",
    "        \n",
    "    def fit(self, X, y):\n",
    "        if self.inferStds:\n",
    "            # compute stds from data\n",
    "            self.centers, self.stds = kmeans(X, self.k)\n",
    "        else:\n",
    "            # use a fixed std \n",
    "            self.centers, _ = kmeans(X, self.k)\n",
    "            dMax = max([np.abs(c1 - c2) for c1 in self.centers for c2 in self.centers])\n",
    "            self.stds = np.repeat(dMax / np.sqrt(2*self.k), self.k)\n",
    "        # training\n",
    "        for epoch in range(self.epochs):\n",
    "            for i in range(X.shape[0]):\n",
    "                # forward pass\n",
    "                a = np.array([self.rbf(X[i], c, s) for c, s, in zip(self.centers, self.stds)])\n",
    "                F = a.T.dot(self.w) + self.b\n",
    "\n",
    "                loss = (y[i] - F).flatten() ** 2\n",
    "                #print('Loss: {0:.2f}'.format(loss[0]))\n",
    "\n",
    "                # backward pass\n",
    "                error = -(y[i] - F).flatten()\n",
    "\n",
    "                # online update\n",
    "                self.w = self.w - self.lr * a * error\n",
    "                self.b = self.b - self.lr * error\n",
    "                \n",
    "    def predict(self, X):\n",
    "        y_pred = []\n",
    "        for i in range(X.shape[0]):\n",
    "            a = np.array([self.rbf(X[i], c, s) for c, s, in zip(self.centers, self.stds)])\n",
    "            F = a.T.dot(self.w) + self.b\n",
    "            y_pred.append(F)\n",
    "        return np.array(y_pred)"
   ]
  },
  {
   "cell_type": "code",
   "execution_count": null,
   "metadata": {},
   "outputs": [],
   "source": []
  },
  {
   "cell_type": "code",
   "execution_count": null,
   "metadata": {},
   "outputs": [],
   "source": []
  },
  {
   "cell_type": "code",
   "execution_count": 950,
   "metadata": {},
   "outputs": [
    {
     "data": {
      "image/png": "[encoded data removed]",
      "text/plain": [
       "<Figure size 432x288 with 1 Axes>"
      ]
     },
     "metadata": {
      "needs_background": "light"
     },
     "output_type": "display_data"
    }
   ],
   "source": [
    "# sample inputs and add noise\n",
    "NUM_SAMPLES = 100\n",
    "X = np.random.uniform(0., 1., NUM_SAMPLES)\n",
    "X = np.sort(X, axis=0)\n",
    "noise = np.random.uniform(-0.1, 0.1, NUM_SAMPLES)\n",
    "y = np.sin(2 * np.pi * X)  + noise\n",
    " \n",
    "rbfnet = RBFNet(lr=1e-2, k=2)\n",
    "rbfnet.fit(X, y)\n",
    " \n",
    "y_pred = rbfnet.predict(X)\n",
    " \n",
    "plt.plot(X, y, '-o', label='true')\n",
    "plt.plot(X, y_pred, '-o', label='RBF-Net')\n",
    "plt.legend()\n",
    " \n",
    "plt.tight_layout()\n",
    "plt.show()"
   ]
  },
  {
   "cell_type": "code",
   "execution_count": null,
   "metadata": {},
   "outputs": [],
   "source": []
  },
  {
   "cell_type": "code",
   "execution_count": null,
   "metadata": {},
   "outputs": [],
   "source": []
  }
 ],
 "metadata": {
  "kernelspec": {
   "display_name": "Python 3",
   "language": "python",
   "name": "python3"
  },
  "language_info": {
   "codemirror_mode": {
    "name": "ipython",
    "version": 3
   },
   "file_extension": ".py",
   "mimetype": "text/x-python",
   "name": "python",
   "nbconvert_exporter": "python",
   "pygments_lexer": "ipython3",
   "version": "3.6.8"
  }
 },
 "nbformat": 4,
 "nbformat_minor": 4
}
